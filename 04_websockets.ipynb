{
 "cells": [
  {
   "cell_type": "markdown",
   "id": "8133dd69-521e-4996-b553-5888aa7ff179",
   "metadata": {},
   "source": [
    "Open websockets.html in your browser:"
   ]
  },
  {
   "cell_type": "code",
   "execution_count": 1,
   "id": "ce91e1c2-60ed-498e-b4d7-c6f961e63ffd",
   "metadata": {},
   "outputs": [
    {
     "name": "stdout",
     "output_type": "stream",
     "text": [
      "Overwriting websockets.html\n"
     ]
    }
   ],
   "source": [
    "%%writefile websockets.html\n",
    "\n",
    "<!DOCTYPE html>\n",
    "<html>\n",
    "<head>\n",
    "    <title>WebSocket Test</title>\n",
    "</head>\n",
    "<body>\n",
    "    <input type=\"text\" id=\"messageInput\" />\n",
    "    <button onclick=\"sendMessage()\">Send</button>\n",
    "    <div id=\"messages\"></div>\n",
    "\n",
    "    <script>\n",
    "        const ws = new WebSocket(\"ws://localhost:8765\");\n",
    "        \n",
    "        ws.onopen = function() {\n",
    "            console.log(\"Connected to WebSocket\");\n",
    "        };\n",
    "        \n",
    "        ws.onmessage = function(event) {\n",
    "            document.getElementById(\"messages\").innerHTML += event.data + \"<br>\";\n",
    "        };\n",
    "\n",
    "        function sendMessage() {\n",
    "            const message = document.getElementById(\"messageInput\").value;\n",
    "            ws.send(message);\n",
    "        }\n",
    "    </script>\n",
    "</body>\n",
    "</html>"
   ]
  },
  {
   "cell_type": "code",
   "execution_count": 3,
   "id": "9bb5a87d-f0a0-451d-9140-c0c10fd495ce",
   "metadata": {},
   "outputs": [
    {
     "name": "stdout",
     "output_type": "stream",
     "text": [
      "Server started at ws://localhost:8765\n",
      "Received: 123\n",
      "Received: Hello from the other side\n"
     ]
    }
   ],
   "source": [
    "import asyncio\n",
    "import websockets\n",
    "import nest_asyncio\n",
    "\n",
    "# This allows asyncio to work in Jupyter\n",
    "nest_asyncio.apply()\n",
    "\n",
    "async def echo(websocket):\n",
    "    async for message in websocket:\n",
    "        print(f\"Received: {message}\")\n",
    "        await websocket.send(f\"Echo: {message}\")\n",
    "\n",
    "# Modified to run in a notebook\n",
    "server = None\n",
    "\n",
    "async def start_server():\n",
    "    global server\n",
    "    server = await websockets.serve(echo, \"localhost\", 8765)\n",
    "    print(\"Server started at ws://localhost:8765\")\n",
    "    \n",
    "async def stop_server():\n",
    "    if server:\n",
    "        server.close()\n",
    "        await server.wait_closed()\n",
    "        print(\"Server stopped\")\n",
    "\n",
    "# Run these in separate cells:\n",
    "# To start:\n",
    "await start_server()\n",
    "\n",
    "# To stop (run in another cell when you want to stop):\n",
    "# await stop_server()"
   ]
  }
 ],
 "metadata": {
  "kernelspec": {
   "display_name": "Python 3 (ipykernel)",
   "language": "python",
   "name": "python3"
  },
  "language_info": {
   "codemirror_mode": {
    "name": "ipython",
    "version": 3
   },
   "file_extension": ".py",
   "mimetype": "text/x-python",
   "name": "python",
   "nbconvert_exporter": "python",
   "pygments_lexer": "ipython3",
   "version": "3.12.8"
  }
 },
 "nbformat": 4,
 "nbformat_minor": 5
}
