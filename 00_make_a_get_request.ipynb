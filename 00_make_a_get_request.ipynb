{
 "cells": [
  {
   "cell_type": "code",
   "execution_count": 1,
   "id": "b3b7ffd2-4f2e-48be-87e4-96f3c2fdfbab",
   "metadata": {},
   "outputs": [],
   "source": [
    "import socket\n",
    "\n",
    "path=\"/\"\n",
    "host = \"example.com\"\n",
    "port = 80\n",
    "\n",
    "\"\"\"\n",
    "Connects to a host on a given port, sends an HTTP GET request, and returns the response.\n",
    "Uses the lowest level socket operations.\n",
    "\n",
    "Args:\n",
    "    host: The hostname (e.g., \"example.com\").\n",
    "    port: The port number (e.g., 80).\n",
    "    path: The URL path (e.g., \"/\").\n",
    "\n",
    "Returns:\n",
    "    The HTTP response as a string, or None if an error occurred.\n",
    "\"\"\"\n",
    "try:\n",
    "    # 1. Create a socket\n",
    "    client_socket = socket.socket(socket.AF_INET, socket.SOCK_STREAM)\n",
    "\n",
    "    # 2. Connect to the server\n",
    "    client_socket.connect((host, port))\n",
    "\n",
    "    # 3. Construct the HTTP GET request\n",
    "    request = f\"GET {path} HTTP/1.1\\r\\n\"  # Note the \\r\\n\n",
    "    request += f\"Host: {host}\\r\\n\"      # Essential for HTTP/1.1\n",
    "    request += \"Connection: close\\r\\n\"  # Tell the server to close the connection after the response\n",
    "    request += \"\\r\\n\"                 # End of headers\n",
    "\n",
    "    # 4. Send the request\n",
    "    client_socket.sendall(request.encode()) # Encode to bytes\n",
    "\n",
    "    # 5. Receive the response\n",
    "    response = b\"\"  # Initialize as bytes\n",
    "    while True:\n",
    "        chunk = client_socket.recv(4096)  # Receive in chunks\n",
    "        if not chunk:\n",
    "            break  # No more data\n",
    "        response += chunk\n",
    "\n",
    "    # 6. Close the connection\n",
    "    client_socket.close()\n",
    "\n",
    "     # Decode the whole thing to string. ignore encoding errors\n",
    "\n",
    "except socket.error as e:\n",
    "    print(f\"Socket error: {e}\")\n",
    "except Exception as e:\n",
    "    print(f\"An error occurred: {e}\")"
   ]
  },
  {
   "cell_type": "code",
   "execution_count": 2,
   "id": "b3791f4a-d932-4052-8658-d25b576557a4",
   "metadata": {},
   "outputs": [
    {
     "name": "stdout",
     "output_type": "stream",
     "text": [
      "GET / HTTP/1.1\n",
      "Host: example.com\n",
      "Connection: close\n",
      "\n",
      "\n"
     ]
    }
   ],
   "source": [
    "print(request)"
   ]
  },
  {
   "cell_type": "code",
   "execution_count": 3,
   "id": "8f2ea151-665f-40b1-9fcf-ea065337310a",
   "metadata": {},
   "outputs": [
    {
     "name": "stdout",
     "output_type": "stream",
     "text": [
      "HTTP/1.1 200 OK\n",
      "Content-Type: text/html\n",
      "ETag: \"84238dfc8092e5d9c0dac8ef93371a07:1736799080.121134\"\n",
      "Last-Modified: Mon, 13 Jan 2025 20:11:20 GMT\n",
      "Cache-Control: max-age=596\n",
      "Date: Thu, 13 Feb 2025 07:37:05 GMT\n",
      "Content-Length: 1256\n",
      "Connection: close\n",
      "\n",
      "<!doctype html>\n",
      "<html>\n",
      "<head>\n",
      "    <title>Example Domain</title>\n",
      "\n",
      "    <meta charset=\"utf-8\" />\n",
      "    <meta http-equiv=\"Content-type\" content=\"text/html; charset=utf-8\" />\n",
      "    <meta name=\"viewport\" content=\"width=device-width, initial-scale=1\" />\n",
      "    <style type=\"text/css\">\n",
      "    body {\n",
      "        background-color: #f0f0f2;\n",
      "        margin: 0;\n",
      "        padding: 0;\n",
      "        font-family: -apple-system, system-ui, BlinkMacSystemFont, \"Segoe UI\", \"Open Sans\", \"Helvetica Neue\", Helvetica, Arial, sans-serif;\n",
      "        \n",
      "    }\n",
      "    div {\n",
      "        width: 600px;\n",
      "        margin: 5em auto;\n",
      "        padding: 2em;\n",
      "        background-color: #fdfdff;\n",
      "        border-radius: 0.5em;\n",
      "        box-shadow: 2px 3px 7px 2px rgba(0,0,0,0.02);\n",
      "    }\n",
      "    a:link, a:visited {\n",
      "        color: #38488f;\n",
      "        text-decoration: none;\n",
      "    }\n",
      "    @media (max-width: 700px) {\n",
      "        div {\n",
      "            margin: 0 auto;\n",
      "            width: auto;\n",
      "        }\n",
      "    }\n",
      "    </style>    \n",
      "</head>\n",
      "\n",
      "<body>\n",
      "<div>\n",
      "    <h1>Example Domain</h1>\n",
      "    <p>This domain is for use in illustrative examples in documents. You may use this\n",
      "    domain in literature without prior coordination or asking for permission.</p>\n",
      "    <p><a href=\"https://www.iana.org/domains/example\">More information...</a></p>\n",
      "</div>\n",
      "</body>\n",
      "</html>\n",
      "\n"
     ]
    }
   ],
   "source": [
    "print(response.decode(errors='ignore'))"
   ]
  }
 ],
 "metadata": {
  "kernelspec": {
   "display_name": "Python 3 (ipykernel)",
   "language": "python",
   "name": "python3"
  },
  "language_info": {
   "codemirror_mode": {
    "name": "ipython",
    "version": 3
   },
   "file_extension": ".py",
   "mimetype": "text/x-python",
   "name": "python",
   "nbconvert_exporter": "python",
   "pygments_lexer": "ipython3",
   "version": "3.12.8"
  }
 },
 "nbformat": 4,
 "nbformat_minor": 5
}
